{
 "cells": [
  {
   "cell_type": "markdown",
   "source": [
    "## 1. Preprocessing\n",
    "This notebook will teach you how to preprocess a sensor based Human Activity Recognition dataset.\n",
    "#### 1.1 Cleaning\n",
    "Depending on the circumstances we want to clean the data before we train our classifier.\n",
    "But since this really depends on the purpose of the trained model, it's not necessary to\n",
    "go too much into specific algorithms.\n",
    "\n",
    "It is very important to double check if the dataset contains **NaN - Values**. If the dataset contains these values\n",
    "make sure, that missing values are interpolated, since we want to keep the original sampling rate.\n",
    "\n",
    "**Code Snippet Here**\n",
    "\n",
    "Be careful with cleaning the data from noise or outlier, since it only is recommandable if the noise/outlier is not from any importance for the use case of our model.\n",
    "#### 1.2 Resampling\n",
    "\n",
    "Resampling is necessary if we work with sensor data from different sensors, that were not recorded with the sampling rate.\n",
    "The optimize the classifier we need to align the data sampling rates with each other.\n",
    "Resampling can either be done by up- or downsample the data.\n",
    "\n",
    "**Code Snippet Here**\n",
    "\n",
    "#### 1.3 Normalizing\n",
    "\n",
    "Normalizing is in an important part in the preprocessing chain, but can also the reason for many mistakes.\n",
    "Therefore it is important to choose the correct strategy for normalizing your dataset.\n",
    "\n",
    "##### 1.3.1 How to normalize?\n",
    "\n",
    "Normalizing sensor-wise\n",
    "\n",
    "before / after\n",
    "\n",
    "Normalizing axis-wise\n",
    "\n",
    "before / after\n",
    "\n",
    "Batch-Normalization\n",
    "Where to put in the architecture?\n",
    "\n",
    "\n",
    "#### 1.4 Windowing\n",
    "##### 1.4.1 Jumping Window\n",
    "##### 1.4.2 Sliding Window\n",
    "\n",
    "https://docs.microsoft.com/en-us/azure/stream-analytics/stream-analytics-window-functions\n",
    "\n",
    "## 2. Label Encoding\n",
    "#### 2.1 One-Hot Encoding"
   ],
   "metadata": {
    "collapsed": false,
    "pycharm": {
     "name": "#%% md\n"
    }
   }
  }
 ],
 "metadata": {
  "kernelspec": {
   "display_name": "Python 3",
   "language": "python",
   "name": "python3"
  },
  "language_info": {
   "codemirror_mode": {
    "name": "ipython",
    "version": 2
   },
   "file_extension": ".py",
   "mimetype": "text/x-python",
   "name": "python",
   "nbconvert_exporter": "python",
   "pygments_lexer": "ipython2",
   "version": "2.7.6"
  }
 },
 "nbformat": 4,
 "nbformat_minor": 0
}