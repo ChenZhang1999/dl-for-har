{
 "cells": [
  {
   "cell_type": "markdown",
   "source": [
    "## 1. Preprocessing\n",
    "This notebook will teach you how to preprocess a sensor based Human Activity Recognition dataset.\n",
    "#### 1.1 Cleaning\n",
    "Depending on the circumstances we want to clean the data before we train our classifier.\n",
    "But since this really depends on the purpose of the trained model, it's not necessary to\n",
    "go too much into specific algorithms.\n",
    "\n",
    "It is very important to double check if the dataset contains NaN - Values. If the dataset contains these values\n",
    "make sure, that missing values are interpolated, since we want to keep the original sampling rate.\n",
    "\n",
    "**Code Snippet Here**\n",
    "\n",
    "Be careful with cleaning the data from noise or outlier, since it only is recommandable if the noise/outlier is not from any importance for the use case of our model.\n",
    "#### 1.2 Resampling\n",
    "#### 1.3 Normalizing\n",
    "##### 1.3.1 How to normalize?\n",
    "#### 1.4 Windowing\n",
    "##### 1.4.1 Jumping Window\n",
    "##### 1.4.2 Sliding Window\n",
    "## 2. Label Encoding\n",
    "#### 2.1 One-Hot Encoding"
   ],
   "metadata": {
    "collapsed": false,
    "pycharm": {
     "name": "#%% md\n"
    }
   }
  }
 ],
 "metadata": {
  "kernelspec": {
   "display_name": "Python 3",
   "language": "python",
   "name": "python3"
  },
  "language_info": {
   "codemirror_mode": {
    "name": "ipython",
    "version": 2
   },
   "file_extension": ".py",
   "mimetype": "text/x-python",
   "name": "python",
   "nbconvert_exporter": "python",
   "pygments_lexer": "ipython2",
   "version": "2.7.6"
  }
 },
 "nbformat": 4,
 "nbformat_minor": 0
}