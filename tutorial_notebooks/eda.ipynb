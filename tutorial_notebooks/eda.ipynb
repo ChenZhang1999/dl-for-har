{
 "cells": [
  {
   "cell_type": "markdown",
   "metadata": {
    "collapsed": true
   },
   "source": [
    "# 1. Exploratory Data Analysis"
   ]
  },
  {
   "cell_type": "markdown",
   "metadata": {},
   "source": [
    "This notebook will teach you how to analyse a Human Activity Recognition dataset. It will show you sample methods which one can apply to get a feel for the data and use case at hand."
   ]
  },
  {
   "cell_type": "markdown",
   "metadata": {},
   "source": [
    "## 1.1. The Dataset"
   ]
  },
  {
   "cell_type": "markdown",
   "metadata": {},
   "source": [
    "Throughout the whole tutorial we will use the RealWorld HAR dataset. The dataset comprises of 15 subjects perfoming a set of 8 activites (climbing stairs up and down, jumping, lying, running/ jogging, sitting, standing, walking). The orginal dataset covers acceleration, GPS, gyroscope, light, magnetic field, and sound level data. Sensors were placed on multiple body positions, i.e. chest, forearm, head, shin, thigh, upper arm, and waist. Each subject performed each activity roughly 10 minutes except for jumping (~1.7 minutes)."
   ]
  },
  {
   "cell_type": "markdown",
   "metadata": {},
   "source": [
    "For simplicity and runtime purposes we will only data obtained from the first subject. To further limit the amount of data, we chose to only use acceleration data captured from the wrist. The following code snippet will load the data will load the subset of the dataset and print the first 5 rows of it. "
   ]
  },
  {
   "cell_type": "code",
   "execution_count": 1,
   "metadata": {},
   "outputs": [
    {
     "data": {
      "text/html": [
       "<div>\n",
       "<style scoped>\n",
       "    .dataframe tbody tr th:only-of-type {\n",
       "        vertical-align: middle;\n",
       "    }\n",
       "\n",
       "    .dataframe tbody tr th {\n",
       "        vertical-align: top;\n",
       "    }\n",
       "\n",
       "    .dataframe thead th {\n",
       "        text-align: right;\n",
       "    }\n",
       "</style>\n",
       "<table border=\"1\" class=\"dataframe\">\n",
       "  <thead>\n",
       "    <tr style=\"text-align: right;\">\n",
       "      <th></th>\n",
       "      <th>subject_id</th>\n",
       "      <th>acc_x</th>\n",
       "      <th>acc_y</th>\n",
       "      <th>acc_z</th>\n",
       "      <th>activity_label</th>\n",
       "    </tr>\n",
       "  </thead>\n",
       "  <tbody>\n",
       "    <tr>\n",
       "      <th>0</th>\n",
       "      <td>0</td>\n",
       "      <td>-9.57434</td>\n",
       "      <td>-2.02733</td>\n",
       "      <td>1.34506</td>\n",
       "      <td>climbing_up</td>\n",
       "    </tr>\n",
       "    <tr>\n",
       "      <th>1</th>\n",
       "      <td>0</td>\n",
       "      <td>-9.56479</td>\n",
       "      <td>-1.99597</td>\n",
       "      <td>1.39345</td>\n",
       "      <td>climbing_up</td>\n",
       "    </tr>\n",
       "    <tr>\n",
       "      <th>2</th>\n",
       "      <td>0</td>\n",
       "      <td>-9.55122</td>\n",
       "      <td>-1.98445</td>\n",
       "      <td>1.41139</td>\n",
       "      <td>climbing_up</td>\n",
       "    </tr>\n",
       "    <tr>\n",
       "      <th>3</th>\n",
       "      <td>0</td>\n",
       "      <td>-9.51335</td>\n",
       "      <td>-1.97557</td>\n",
       "      <td>1.42615</td>\n",
       "      <td>climbing_up</td>\n",
       "    </tr>\n",
       "    <tr>\n",
       "      <th>4</th>\n",
       "      <td>0</td>\n",
       "      <td>-9.52959</td>\n",
       "      <td>-1.98187</td>\n",
       "      <td>1.45395</td>\n",
       "      <td>climbing_up</td>\n",
       "    </tr>\n",
       "  </tbody>\n",
       "</table>\n",
       "</div>"
      ],
      "text/plain": [
       "   subject_id    acc_x    acc_y    acc_z activity_label\n",
       "0           0 -9.57434 -2.02733  1.34506    climbing_up\n",
       "1           0 -9.56479 -1.99597  1.39345    climbing_up\n",
       "2           0 -9.55122 -1.98445  1.41139    climbing_up\n",
       "3           0 -9.51335 -1.97557  1.42615    climbing_up\n",
       "4           0 -9.52959 -1.98187  1.45395    climbing_up"
      ]
     },
     "execution_count": 1,
     "metadata": {},
     "output_type": "execute_result"
    }
   ],
   "source": [
    "import os\n",
    "import sys\n",
    "import pandas as pd\n",
    "\n",
    "module_path = os.path.abspath(os.path.join('..'))\n",
    "if module_path not in sys.path:\n",
    "    sys.path.append(module_path)\n",
    "\n",
    "data_folder = '../data'\n",
    "dataset = 'rwhar_sbj1_data.csv'\n",
    "\n",
    "data = pd.read_csv(os.path.join(data_folder, dataset), names=['subject_id', 'acc_x', 'acc_y', 'acc_z', 'activity_label'])\n",
    "data.head()"
   ]
  },
  {
   "cell_type": "markdown",
   "metadata": {},
   "source": [
    "As you can see, the dataset comprises of 5 columns.\n",
    "- **subject_id**: identifier which subject the data belongs to\n",
    "- **acc_x**: acceleration data obtained from the wrist (x-axis)\n",
    "- **acc_y**: acceleration data obtained from the wrist (y-axis)\n",
    "- **acc_z**: acceleration data obtained from the wrist (z-axis)\n",
    "- **activity_label**: name of the activtiy which was performed"
   ]
  },
  {
   "cell_type": "markdown",
   "metadata": {},
   "source": [
    "## 1.2. Visualizing the Dataset"
   ]
  },
  {
   "cell_type": "markdown",
   "metadata": {},
   "source": [
    "First, we will take a closer look at the dataset at hand. In the following, we will go over sample steps you can take to get a better feeling for a dataset and how its data looks like.\n"
   ]
  },
  {
   "cell_type": "markdown",
   "metadata": {},
   "source": [
    "Task\n",
    "1. Analyse the label distribution of the dataset. What unique labels exist in the dataset? How many instances of each label are there?\n",
    "2. Visualize your results obtained in 1. using a bar plot diagram."
   ]
  },
  {
   "cell_type": "code",
   "execution_count": 16,
   "metadata": {},
   "outputs": [
    {
     "name": "stdout",
     "output_type": "stream",
     "text": [
      "\n",
      "Unique labels in the dataset:\n",
      "climbing_up\n",
      "standing\n",
      "walking\n",
      "sitting\n",
      "running\n",
      "climbing_down\n",
      "jumping\n",
      "lying\n",
      "\n",
      "Label Distribution: \n",
      "sitting          32833\n",
      "standing         31924\n",
      "walking          31793\n",
      "lying            31229\n",
      "running          30429\n",
      "climbing_up      26938\n",
      "climbing_down    25281\n",
      "jumping           4232\n",
      "Name: activity_label, dtype: int64\n"
     ]
    },
    {
     "data": {
      "image/png": "[encoded data removed]",
      "text/plain": [
       "<Figure size 864x360 with 1 Axes>"
      ]
     },
     "metadata": {
      "needs_background": "light"
     },
     "output_type": "display_data"
    }
   ],
   "source": [
    "import numpy as np\n",
    "import matplotlib.pyplot as plt\n",
    "\n",
    "unique_labels = data['activity_label'].unique()\n",
    "print('\\nUnique labels in the dataset:')\n",
    "for l in unique_labels: print(l)\n",
    "\n",
    "label_distribution = data['activity_label'].value_counts()\n",
    "print('\\nLabel Distribution: ')\n",
    "print(label_distribution)\n",
    "\n",
    "x_axis = label_distribution.index.tolist()\n",
    "y_axis = label_distribution.tolist()\n",
    "plt.figure(figsize=(12, 5))\n",
    "plt.bar(x_axis, y_axis, width=0.5)\n",
    "plt.xlabel('Activity label')\n",
    "plt.ylabel('Count')\n",
    "plt.title('Label Distribution')\n",
    "plt.show()"
   ]
  },
  {
   "cell_type": "markdown",
   "metadata": {},
   "source": [
    "### Task\n",
    "Your next task will be to visualize all data of a sample activity. The next steps will guide you through how to define a sample function to do so called 'plot_activity'\n",
    "1. Filter the original dataset to only contain records with the wanted label \n",
    "2. Define the y-axis of the plot as the sensor values, e.g. acceleration data on the x-, y- and z-axis\n",
    "3. Define the x-axis of the plot as the time in seconds (Hint: you need the sampling rate).\n",
    "4. Test the function for different activity labels and sensors."
   ]
  },
  {
   "cell_type": "code",
   "execution_count": null,
   "metadata": {
    "scrolled": false
   },
   "outputs": [],
   "source": [
    "%matplotlib notebook\n",
    "import math\n",
    "import matplotlib.pyplot as plt\n",
    "\n",
    "activity_label = 'climbing_up'\n",
    "sensor_names = ['acc_x', 'acc_y', 'acc_z']\n",
    "sampling_rate = 50\n",
    "\n",
    "def plot_activity(data, activity_label, sensor_names, sampling_rate):\n",
    "    filtered_data = data[data.activity_label==label]\n",
    "    \n",
    "    y_axis = filtered_data[sensor_names]\n",
    "    x_axis = np.array(range(len(acc_x))) / sampling_rate\n",
    "\n",
    "    plt.plot(x_axis, acc_x)\n",
    "\n",
    "    plt.xlabel('Time (sec)')\n",
    "    plt.ylabel('Sensor Value')\n",
    "    plt.title(label)\n",
    "    plt.show()\n",
    "    \n",
    "plot_activity(data, label, sensor_names, sampling_rate)"
   ]
  },
  {
   "cell_type": "code",
   "execution_count": null,
   "metadata": {},
   "outputs": [],
   "source": [
    "import numpy as np\n",
    "import math\n",
    "import matplotlib.pyplot as plt\n",
    "\n",
    "x = data['acc_x']\n",
    "y = data['acc_y']\n",
    "z = data['acc_z']\n",
    "\n",
    "plt.plot(x, 'r') # plotting t, a separately \n",
    "plt.plot(y, 'b') # plotting t, b separately \n",
    "plt.plot(z, 'g') # plotting t, c separately \n",
    "plt.xlim([26939,58863])\n",
    "plt.ylim([-20,20])\n",
    "plt.show()"
   ]
  },
  {
   "cell_type": "markdown",
   "metadata": {},
   "source": [
    "## 1.3. Analyzing the Activities"
   ]
  },
  {
   "cell_type": "code",
   "execution_count": null,
   "metadata": {},
   "outputs": [],
   "source": [
    "from data_processing.data_analysis import analyze_window_lengths\n",
    "\n",
    "analyze_window_lengths(labels=data['activity_label'], subject_idx=data['subject_id'], sampling_rate=50)"
   ]
  }
 ],
 "metadata": {
  "kernelspec": {
   "display_name": "Python 3 (ipykernel)",
   "language": "python",
   "name": "python3"
  },
  "language_info": {
   "codemirror_mode": {
    "name": "ipython",
    "version": 3
   },
   "file_extension": ".py",
   "mimetype": "text/x-python",
   "name": "python",
   "nbconvert_exporter": "python",
   "pygments_lexer": "ipython3",
   "version": "3.7.11"
  }
 },
 "nbformat": 4,
 "nbformat_minor": 1
}
