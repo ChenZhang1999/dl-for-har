{
 "cells": [
  {
   "cell_type": "markdown",
   "metadata": {
    "collapsed": true
   },
   "source": [
    "# 3. Evaluation"
   ]
  },
  {
   "cell_type": "markdown",
   "metadata": {},
   "source": [
    "Before we dive into how to use the preprocessed data we created to train a Deep Learning network, we first need to talk about how to evaluate the predicitions of our networks.\n",
    "\n",
    "This notebook will give you an overview of the state-of-the-art evaluation metrics applied within the field of HAR. The metrics we will talk about include:\n",
    "\n",
    "- Accuracy\n",
    "- Confusion matrix\n",
    "- Precision\n",
    "- Recall\n",
    "- F1-score\n",
    "- Generalization gap\n",
    "\n",
    "In the following, we will go over each of these metrics by evaluating a toy example. You will implement each evaluation metric from scratch as this will help you to better understand and interpret them.\n",
    "\n",
    "**Note:** This notebook is highly inspired by https://machinelearningmastery.com/implement-machine-learning-algorithm-performance-metrics-scratch-python/ "
   ]
  },
  {
   "cell_type": "markdown",
   "metadata": {},
   "source": [
    "## 3.1. Toy example"
   ]
  },
  {
   "cell_type": "markdown",
   "metadata": {},
   "source": [
    "For simplicity reasons, we will not work with RWHAR dataset within this notebook, but rather use a toy example. \n",
    "\n",
    "Given three subjects which performed a set of 4 activities. Given that we already windowed the data and decided on a label for each window, each subject has a corresponding true label array. We call this the **ground truth** information."
   ]
  },
  {
   "cell_type": "code",
   "execution_count": 7,
   "metadata": {},
   "outputs": [],
   "source": [
    "labels = [0, 1, 2, 3]\n",
    "\n",
    "gt_sbj1 = [1, 1, 1, 0, 0, 0, 2, 3, 3, 2]\n",
    "gt_sbj2 = [0, 0, 1, 0, 3, 3, 0, 0, 1, 2]\n",
    "gt_sbj3 = [3, 3, 3, 0, 0, 1, 1, 2, 2, 2]"
   ]
  },
  {
   "cell_type": "markdown",
   "metadata": {},
   "source": [
    "Assume that we trained a Deep Learning network on the data of the first subject and evaluated it on the other two subjects. Applying the network now again on the data of each subject will return us three prediction arrays. We call said arrays the **train predicitions** (for subject 1) and **validation predictions** (for subject 2 and 3)."
   ]
  },
  {
   "cell_type": "code",
   "execution_count": 14,
   "metadata": {},
   "outputs": [],
   "source": [
    "import numpy as np\n",
    "\n",
    "pred_sbj1 = [1, 1, 0, 0, 2, 2, 2, 3, 3, 1]\n",
    "pred_sbj2 = [0, 1, 1, 1, 3, 2, 1, 1, 0, 2]\n",
    "pred_sbj3 = [0, 2, 3, 0, 1, 1, 1, 3, 0, 2]\n",
    "\n",
    "train_gt = gt_sbj1\n",
    "train_pred = pred_sbj1\n",
    "\n",
    "val_gt = np.concatenate((gt_sbj2, gt_sbj3))\n",
    "val_pred = np.concatenate((pred_sbj2, pred_sbj3))"
   ]
  },
  {
   "cell_type": "markdown",
   "metadata": {},
   "source": [
    "We now have everything we need to calculate the evaluation metrics."
   ]
  },
  {
   "cell_type": "markdown",
   "metadata": {},
   "source": [
    "## 3.2. Accuracy"
   ]
  },
  {
   "cell_type": "markdown",
   "metadata": {},
   "source": [
    "Classification accuracy is the ratio of the number of correct preditions out of all predictions that your algorithm made. It is therefore calculated as:\n",
    "\n",
    "$$\\frac{no. true\\_preditions}{no. total\\_predicitions}$$"
   ]
  },
  {
   "cell_type": "markdown",
   "metadata": {},
   "source": [
    "### Task 1: Implement the accuracy evaluation metric"
   ]
  },
  {
   "cell_type": "markdown",
   "metadata": {},
   "source": [
    "1. Implement a method which calculates the accuracy metric as defined above.\n",
    "2. Calculate the per-subject, train and validation accuracy using the above defined arrays."
   ]
  },
  {
   "cell_type": "code",
   "execution_count": 15,
   "metadata": {},
   "outputs": [
    {
     "name": "stdout",
     "output_type": "stream",
     "text": [
      "\n",
      "Subject 1 accuracy:\n",
      "60.0\n",
      "\n",
      "Subject 2 accuracy:\n",
      "40.0\n",
      "\n",
      "Subject 3 accuracy:\n",
      "50.0\n",
      "\n",
      "Training accuracy:\n",
      "60.0\n",
      "\n",
      "Validation accuracy:\n",
      "45.0\n"
     ]
    }
   ],
   "source": [
    "def accuracy_metric(actual, predicted):\n",
    "    correct = 0\n",
    "    for i in range(len(actual)):\n",
    "        if actual[i] == predicted[i]:\n",
    "            correct += 1\n",
    "    return correct / float(len(actual)) * 100.0\n",
    "\n",
    "print('\\nSubject 1 accuracy:')\n",
    "print(accuracy_metric(gt_sbj1, pred_sbj1))\n",
    "\n",
    "print('\\nSubject 2 accuracy:')\n",
    "print(accuracy_metric(gt_sbj2, pred_sbj2))\n",
    "\n",
    "print('\\nSubject 3 accuracy:')\n",
    "print(accuracy_metric(gt_sbj3, pred_sbj3))\n",
    "\n",
    "print('\\nTraining accuracy:')\n",
    "print(accuracy_metric(train_gt, train_pred))\n",
    "\n",
    "print('\\nValidation accuracy:')\n",
    "print(accuracy_metric(val_gt, val_pred))"
   ]
  },
  {
   "cell_type": "markdown",
   "metadata": {},
   "source": [
    "## 3.3. True Positives, False Postives, True Negatives and False Negatives"
   ]
  },
  {
   "cell_type": "markdown",
   "metadata": {},
   "source": [
    "In order to compute the precision, recall and f1-score metrics, we need to first talk about the four types one can classify the outcome of a classification. This is the concept of **true positives, false positives, true negatives and false negatives**. Given a prediction and its ground truth label, the outcome of the prediction for a label i can either be a:\n",
    "\n",
    "- **True Positive (TP)**: the prediction and ground truth label are both of label i.\n",
    "- **False Positive (FP)**: the predicition is falsely of prediction i, even though the ground truth label is some other label.\n",
    "- **True Negative (TN)**: the predicition is not of prediction i, even though the ground truth label is of label i.\n",
    "- **False Negative (FN)**: the prediction and ground truth label are both not of label i.\n",
    "\n",
    "For a multiclass problem, this leaves us for each label with a count of TP, FP, TN and FN. In the following we will calculate the TP, FP, TN and FN values for each of the four labels of our toy example."
   ]
  },
  {
   "cell_type": "code",
   "execution_count": 35,
   "metadata": {},
   "outputs": [
    {
     "name": "stdout",
     "output_type": "stream",
     "text": [
      "\n",
      "Subject 1 TP, FP, TN and FN:\n",
      "\n",
      "Label 0:\n",
      "True Positives: 1, False Positives: 6, True Negatives: 1, False Negatives: 2\n",
      "\n",
      "Label 1:\n",
      "True Positives: 2, False Positives: 6, True Negatives: 1, False Negatives: 1\n",
      "\n",
      "Label 2:\n",
      "True Positives: 1, False Positives: 6, True Negatives: 2, False Negatives: 1\n",
      "\n",
      "Label 3:\n",
      "True Positives: 2, False Positives: 8, True Negatives: 0, False Negatives: 0\n"
     ]
    }
   ],
   "source": [
    "def compute_tp_tn_fn_fp(y_act, y_pred, label):\n",
    "    y_act = pd.Series(y_act)\n",
    "    y_pred = pd.Series(y_pred)\n",
    "    tp = sum((y_act == label) & (y_pred == label))\n",
    "    tn = sum((y_act != label) & (y_pred != label))\n",
    "    fn = sum((y_act == label) & (y_pred != label))\n",
    "    fp = sum((y_act != label) & (y_pred == label))\n",
    "    return tp, tn, fp, fn\n",
    "\n",
    "tp_0, tn_0, fp_0, fn_0 = compute_tp_tn_fn_fp(gt_sbj1, pred_sbj1, 0)\n",
    "tp_1, tn_1, fp_1, fn_1 = compute_tp_tn_fn_fp(gt_sbj1, pred_sbj1, 1)\n",
    "tp_2, tn_2, fp_2, fn_2 = compute_tp_tn_fn_fp(gt_sbj1, pred_sbj1, 2)\n",
    "tp_3, tn_3, fp_3, fn_3 = compute_tp_tn_fn_fp(gt_sbj1, pred_sbj1, 3)\n",
    "\n",
    "print('\\nSubject 1 TP, FP, TN and FN:')\n",
    "print('\\nLabel 0:')\n",
    "print('True Positives: {0}, False Positives: {1}, True Negatives: {2}, False Negatives: {3}'.format(tp_0, tn_0, fp_0, fn_0))\n",
    "print('\\nLabel 1:')\n",
    "print('True Positives: {0}, False Positives: {1}, True Negatives: {2}, False Negatives: {3}'.format(tp_1, tn_1, fp_1, fn_1))\n",
    "print('\\nLabel 2:')\n",
    "print('True Positives: {0}, False Positives: {1}, True Negatives: {2}, False Negatives: {3}'.format(tp_2, tn_2, fp_2, fn_2))\n",
    "print('\\nLabel 3:')\n",
    "print('True Positives: {0}, False Positives: {1}, True Negatives: {2}, False Negatives: {3}'.format(tp_3, tn_3, fp_3, fn_3))"
   ]
  },
  {
   "cell_type": "markdown",
   "metadata": {},
   "source": [
    "## 3.3. Precision, Recall and F1-score"
   ]
  },
  {
   "cell_type": "markdown",
   "metadata": {},
   "source": [
    "Precision, Recall and F1-score are the most central metrics when it comes classification problems. Each of them assesses a differnt viewpoint of how your algorithm solved the classification problem for a specific label. In the following we will go over how to compute each metric, compute them for each label and take the average across labels to obtain a final assessment for our toy example."
   ]
  },
  {
   "cell_type": "markdown",
   "metadata": {},
   "source": [
    "### 3.3.1. Precision"
   ]
  },
  {
   "cell_type": "markdown",
   "metadata": {},
   "source": [
    "For a class label i, precision is the fraction of correct predictions for the label at hand out of all instances where the algorithm predicted the label to be i. For a class label i it is computed as:\n",
    "\n",
    "$$P_i = \\frac{TP_i}{TP_i + FP_i} \\text{ for given class i}$$"
   ]
  },
  {
   "cell_type": "markdown",
   "metadata": {},
   "source": [
    "#### Task 2: Implement the precision evaluation metric"
   ]
  },
  {
   "cell_type": "markdown",
   "metadata": {},
   "source": [
    "1. For each label calculate the TP, FP, TN and FN values and calculate the precision value as defined above.\n",
    "2. Calculate the average precision across all labels, i.e. add up the precision value for all labels and divide it by the number of labels."
   ]
  },
  {
   "cell_type": "code",
   "execution_count": 29,
   "metadata": {},
   "outputs": [
    {
     "name": "stdout",
     "output_type": "stream",
     "text": [
      "\n",
      "Subject 1 precision:\n",
      "Precision Label 0:\n",
      "50.0\n",
      "Precision Label 1:\n",
      "66.66666666666666\n",
      "Precision Label 2:\n",
      "33.33333333333333\n",
      "Precision Label 3:\n",
      "100.0\n",
      "Average Precision:\n",
      "62.5\n",
      "\n",
      "Subject 2 precision:\n",
      "Precision Label 0:\n",
      "50.0\n",
      "Precision Label 1:\n",
      "20.0\n",
      "Precision Label 2:\n",
      "50.0\n",
      "Precision Label 3:\n",
      "100.0\n",
      "Average Precision:\n",
      "55.0\n",
      "\n",
      "Subject 3 precision:\n",
      "Precision Label 0:\n",
      "33.33333333333333\n",
      "Precision Label 1:\n",
      "66.66666666666666\n",
      "Precision Label 2:\n",
      "50.0\n",
      "Precision Label 3:\n",
      "50.0\n",
      "Average Precision:\n",
      "50.0\n",
      "\n",
      "Training precision:\n",
      "Precision Label 0:\n",
      "50.0\n",
      "Precision Label 1:\n",
      "66.66666666666666\n",
      "Precision Label 2:\n",
      "33.33333333333333\n",
      "Precision Label 3:\n",
      "100.0\n",
      "Average Precision:\n",
      "62.5\n",
      "\n",
      "Validation precision:\n",
      "Precision Label 0:\n",
      "40.0\n",
      "Precision Label 1:\n",
      "37.5\n",
      "Precision Label 2:\n",
      "50.0\n",
      "Precision Label 3:\n",
      "66.66666666666666\n",
      "Average Precision:\n",
      "48.541666666666664\n"
     ]
    }
   ],
   "source": [
    "def precision(actual, predicted, labels):\n",
    "    total_prec = 0\n",
    "    for label in labels:\n",
    "        tp, tn, fp, fn = compute_tp_tn_fn_fp(actual, predicted, label)\n",
    "        print('Precision Label {0}:'.format(label))\n",
    "        prec = tp / (tp + fp) * 100\n",
    "        print(prec)\n",
    "        total_prec += prec\n",
    "    print('Average Precision:')\n",
    "    print(total_prec / len(labels))\n",
    "    \n",
    "print('\\nSubject 1 precision:')\n",
    "precision(gt_sbj1, pred_sbj1, labels)\n",
    "\n",
    "print('\\nSubject 2 precision:')\n",
    "precision(gt_sbj2, pred_sbj2, labels)\n",
    "\n",
    "print('\\nSubject 3 precision:')\n",
    "precision(gt_sbj3, pred_sbj3, labels)\n",
    "\n",
    "print('\\nTraining precision:')\n",
    "precision(train_gt, train_pred, labels)\n",
    "\n",
    "print('\\nValidation precision:')\n",
    "precision(val_gt, val_pred, labels)"
   ]
  },
  {
   "cell_type": "markdown",
   "metadata": {},
   "source": [
    "### 3.3.2. Recall"
   ]
  },
  {
   "cell_type": "markdown",
   "metadata": {},
   "source": [
    "Recall is the fraction of correct predictions for the label at hand over all instances which have the label i. For a class label i it is computed as:\n",
    "\n",
    "$$R_i =\\frac{TP_i}{TP_i + FN_i} \\text{ for given class i}$$"
   ]
  },
  {
   "cell_type": "markdown",
   "metadata": {},
   "source": [
    "#### Task 3: Implement the recall evaluation metric"
   ]
  },
  {
   "cell_type": "markdown",
   "metadata": {},
   "source": [
    "1. For each label calculate the TP, FP, TN and FN values and calculate the recall value as defined above.\n",
    "2. Calculate the average recall across all labels, i.e. add up the recall value for all labels and divide it by the number of labels."
   ]
  },
  {
   "cell_type": "code",
   "execution_count": 30,
   "metadata": {},
   "outputs": [
    {
     "name": "stdout",
     "output_type": "stream",
     "text": [
      "\n",
      "Subject 1 recall:\n",
      "Recall Label 0:\n",
      "33.33333333333333\n",
      "Recall Label 1:\n",
      "66.66666666666666\n",
      "Recall Label 2:\n",
      "50.0\n",
      "Recall Label 3:\n",
      "100.0\n",
      "Average Recall:\n",
      "62.5\n",
      "\n",
      "Subject 2 recall:\n",
      "Recall Label 0:\n",
      "20.0\n",
      "Recall Label 1:\n",
      "50.0\n",
      "Recall Label 2:\n",
      "100.0\n",
      "Recall Label 3:\n",
      "50.0\n",
      "Average Recall:\n",
      "55.0\n",
      "\n",
      "Subject 3 recall:\n",
      "Recall Label 0:\n",
      "50.0\n",
      "Recall Label 1:\n",
      "100.0\n",
      "Recall Label 2:\n",
      "33.33333333333333\n",
      "Recall Label 3:\n",
      "33.33333333333333\n",
      "Average Recall:\n",
      "54.16666666666666\n",
      "\n",
      "Training recall:\n",
      "Recall Label 0:\n",
      "33.33333333333333\n",
      "Recall Label 1:\n",
      "66.66666666666666\n",
      "Recall Label 2:\n",
      "50.0\n",
      "Recall Label 3:\n",
      "100.0\n",
      "Average Recall:\n",
      "62.5\n",
      "\n",
      "Validation recall:\n",
      "Recall Label 0:\n",
      "28.57142857142857\n",
      "Recall Label 1:\n",
      "75.0\n",
      "Recall Label 2:\n",
      "50.0\n",
      "Recall Label 3:\n",
      "40.0\n",
      "Average Recall:\n",
      "48.39285714285714\n"
     ]
    }
   ],
   "source": [
    "def recall(actual, predicted, labels):\n",
    "    total_rec = 0\n",
    "    for label in labels:\n",
    "        tp, tn, fp, fn = compute_tp_tn_fn_fp(actual, predicted, label)\n",
    "        print('Recall Label {0}:'.format(label))\n",
    "        rec = tp / (tp + fn) * 100\n",
    "        print(rec)\n",
    "        total_rec += rec\n",
    "    print('Average Recall:')\n",
    "    print(total_rec / len(labels))\n",
    "    \n",
    "print('\\nSubject 1 recall:')\n",
    "recall(gt_sbj1, pred_sbj1, labels)\n",
    "\n",
    "print('\\nSubject 2 recall:')\n",
    "recall(gt_sbj2, pred_sbj2, labels)\n",
    "\n",
    "print('\\nSubject 3 recall:')\n",
    "recall(gt_sbj3, pred_sbj3, labels)\n",
    "\n",
    "print('\\nTraining recall:')\n",
    "recall(train_gt, train_pred, labels)\n",
    "\n",
    "print('\\nValidation recall:')\n",
    "recall(val_gt, val_pred, labels)"
   ]
  },
  {
   "cell_type": "markdown",
   "metadata": {},
   "source": [
    "### 3.3.3. F1-score"
   ]
  },
  {
   "cell_type": "markdown",
   "metadata": {},
   "source": [
    "The F1-score combines both recall and precision into one measure. It is computed as the harmonic mean of precision and recall, i.e.:\n",
    "\n",
    "$$F_i = 2 * \\frac{P_i * R_i}{P_i + R_i}$$"
   ]
  },
  {
   "cell_type": "markdown",
   "metadata": {},
   "source": [
    "#### Task 3: Implement the F1-score evaluation metric"
   ]
  },
  {
   "cell_type": "markdown",
   "metadata": {},
   "source": [
    "1. For each label calculate the TP, FP, TN and FN values and calculate the recall and precision value as defined above.\n",
    "2. Calculate the counter and denominator of the F1-score formula and compute the F1-score for the given label\n",
    "3. Calculate the average F1-score across all labels, i.e. add up the F1-score value for all labels and divide it by the number of labels."
   ]
  },
  {
   "cell_type": "code",
   "execution_count": 34,
   "metadata": {},
   "outputs": [
    {
     "name": "stdout",
     "output_type": "stream",
     "text": [
      "\n",
      "Subject 1 F1-score:\n",
      "F1-score Label 0:\n",
      "40.0\n",
      "F1-score Label 1:\n",
      "66.66666666666666\n",
      "F1-score Label 2:\n",
      "40.0\n",
      "F1-score Label 3:\n",
      "100.0\n",
      "Average F1-score:\n",
      "61.666666666666664\n",
      "\n",
      "Subject 2 F1-score:\n",
      "F1-score Label 0:\n",
      "28.571428571428577\n",
      "F1-score Label 1:\n",
      "28.571428571428577\n",
      "F1-score Label 2:\n",
      "66.66666666666666\n",
      "F1-score Label 3:\n",
      "66.66666666666666\n",
      "Average F1-score:\n",
      "47.61904761904762\n",
      "\n",
      "Subject 3 F1-score:\n",
      "F1-score Label 0:\n",
      "40.0\n",
      "F1-score Label 1:\n",
      "80.0\n",
      "F1-score Label 2:\n",
      "40.0\n",
      "F1-score Label 3:\n",
      "40.0\n",
      "Average F1-score:\n",
      "50.0\n",
      "\n",
      "Training F1-score:\n",
      "F1-score Label 0:\n",
      "40.0\n",
      "F1-score Label 1:\n",
      "66.66666666666666\n",
      "F1-score Label 2:\n",
      "40.0\n",
      "F1-score Label 3:\n",
      "100.0\n",
      "Average F1-score:\n",
      "61.666666666666664\n",
      "\n",
      "Validation F1-score:\n",
      "F1-score Label 0:\n",
      "33.33333333333333\n",
      "F1-score Label 1:\n",
      "50.0\n",
      "F1-score Label 2:\n",
      "50.0\n",
      "F1-score Label 3:\n",
      "50.0\n",
      "Average F1-score:\n",
      "45.83333333333333\n"
     ]
    }
   ],
   "source": [
    "def f1_score(actual, predicted, labels):\n",
    "    total_f1 = 0\n",
    "    for label in labels:\n",
    "        tp, tn, fp, fn = compute_tp_tn_fn_fp(actual, predicted, label)\n",
    "        print('F1-score Label {0}:'.format(label))\n",
    "        rec = tp / (tp + fn)\n",
    "        prec = tp / (tp + fp)\n",
    "        counter = prec * rec\n",
    "        denominator = prec + rec\n",
    "        f1 = 2 * (counter / denominator) * 100\n",
    "        print(f1)\n",
    "        total_f1 += f1\n",
    "    print('Average F1-score:')\n",
    "    print(total_f1 / len(labels))\n",
    "    \n",
    "print('\\nSubject 1 F1-score:')\n",
    "f1_score(gt_sbj1, pred_sbj1, labels)\n",
    "\n",
    "print('\\nSubject 2 F1-score:')\n",
    "f1_score(gt_sbj2, pred_sbj2, labels)\n",
    "\n",
    "print('\\nSubject 3 F1-score:')\n",
    "f1_score(gt_sbj3, pred_sbj3, labels)\n",
    "\n",
    "print('\\nTraining F1-score:')\n",
    "f1_score(train_gt, train_pred, labels)\n",
    "\n",
    "print('\\nValidation F1-score:')\n",
    "f1_score(val_gt, val_pred, labels)"
   ]
  },
  {
   "cell_type": "markdown",
   "metadata": {},
   "source": [
    "## 3.3. Confusion matrix"
   ]
  },
  {
   "cell_type": "markdown",
   "metadata": {},
   "source": [
    "A confusion matrix gives you a tabular overview of all predicitions compared to the ground truth values. The counts of actual labels are oriented horizontally, i.e. column-wise. The counts of predicted labels are oriented vertically, i.e. row-wise. A perfect confusion matrix would be a diagonal matrix, i.e. all labels are correctly predicted and have the same predicted label and ground truth label.\n",
    "\n",
    "You can use a confusion matrix to quickly spot which classes your algorithm might have struggled with the most."
   ]
  },
  {
   "cell_type": "markdown",
   "metadata": {},
   "source": [
    "### Task 3: Implement the F1-score evaluation metric"
   ]
  },
  {
   "cell_type": "code",
   "execution_count": null,
   "metadata": {},
   "outputs": [],
   "source": []
  },
  {
   "cell_type": "code",
   "execution_count": 46,
   "metadata": {},
   "outputs": [
    {
     "data": {
      "image/png": "[encoded data removed]",
      "text/plain": [
       "<Figure size 432x288 with 2 Axes>"
      ]
     },
     "metadata": {
      "needs_background": "light"
     },
     "output_type": "display_data"
    },
    {
     "data": {
      "image/png": "[encoded data removed]",
      "text/plain": [
       "<Figure size 432x288 with 2 Axes>"
      ]
     },
     "metadata": {
      "needs_background": "light"
     },
     "output_type": "display_data"
    },
    {
     "data": {
      "image/png": "[encoded data removed]",
      "text/plain": [
       "<Figure size 432x288 with 2 Axes>"
      ]
     },
     "metadata": {
      "needs_background": "light"
     },
     "output_type": "display_data"
    },
    {
     "data": {
      "image/png": "[encoded data removed]",
      "text/plain": [
       "<Figure size 432x288 with 2 Axes>"
      ]
     },
     "metadata": {
      "needs_background": "light"
     },
     "output_type": "display_data"
    },
    {
     "data": {
      "image/png": "[encoded data removed]",
      "text/plain": [
       "<Figure size 432x288 with 2 Axes>"
      ]
     },
     "metadata": {
      "needs_background": "light"
     },
     "output_type": "display_data"
    }
   ],
   "source": [
    "from sklearn.metrics import confusion_matrix, ConfusionMatrixDisplay\n",
    "import time \n",
    "def plot_confusion_matrix(actual, predicted, labels):\n",
    "    cm = confusion_matrix(actual, predicted, labels=labels)\n",
    "    disp = ConfusionMatrixDisplay(confusion_matrix=cm, display_labels=labels)\n",
    "    disp.plot() \n",
    "    \n",
    "plot_confusion_matrix(gt_sbj1, pred_sbj1, labels)\n",
    "\n",
    "plot_confusion_matrix(gt_sbj2, pred_sbj2, labels)\n",
    "\n",
    "plot_confusion_matrix(gt_sbj3, pred_sbj3, labels)\n",
    "\n",
    "plot_confusion_matrix(train_gt, train_pred, labels)\n",
    "\n",
    "plot_confusion_matrix(val_gt, val_pred, labels)\n"
   ]
  },
  {
   "cell_type": "code",
   "execution_count": null,
   "metadata": {},
   "outputs": [],
   "source": []
  },
  {
   "cell_type": "code",
   "execution_count": null,
   "metadata": {},
   "outputs": [],
   "source": []
  }
 ],
 "metadata": {
  "kernelspec": {
   "display_name": "Python 3 (ipykernel)",
   "language": "python",
   "name": "python3"
  },
  "language_info": {
   "codemirror_mode": {
    "name": "ipython",
    "version": 3
   },
   "file_extension": ".py",
   "mimetype": "text/x-python",
   "name": "python",
   "nbconvert_exporter": "python",
   "pygments_lexer": "ipython3",
   "version": "3.7.11"
  }
 },
 "nbformat": 4,
 "nbformat_minor": 1
}