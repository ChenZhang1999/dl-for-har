{
  "nbformat": 4,
  "nbformat_minor": 0,
  "metadata": {
    "kernelspec": {
      "display_name": "Python 3",
      "language": "python",
      "name": "python3"
    },
    "language_info": {
      "codemirror_mode": {
        "name": "ipython",
        "version": 3
      },
      "file_extension": ".py",
      "mimetype": "text/x-python",
      "name": "python",
      "nbconvert_exporter": "python",
      "pygments_lexer": "ipython3",
      "version": "3.7.11"
    },
    "colab": {
      "name": "eda.ipynb",
      "provenance": []
    }
  },
  "cells": [
    {
      "cell_type": "markdown",
      "metadata": {
        "collapsed": true,
        "id": "7KJeYP-5Zmch"
      },
      "source": [
        "\n",
        "\n",
        "# 1. Introduction & Data Analysis"
      ]
    },
    {
      "cell_type": "markdown",
      "metadata": {
        "id": "EycQVX4Tkuet"
      },
      "source": [
        "## 1.1. Introduction"
      ]
    },
    {
      "cell_type": "markdown",
      "metadata": {
        "id": "9JS4Q-v6Z2lb"
      },
      "source": [
        "Welcome to the Tutorial on Deep Learning for Human Activity Recognition. This is the first of five notebooks, which you we will work through together to get a basic understanding of all the necessary steps one needs to go through when applying Deep Learning on Human Activity Recognition.\n",
        "\n",
        "We assume that you already listened to the introduction, are familiar with the ultimate goal of the tutorial as well as necessary terms in order to understand this tutorial. You can look up the introduction slides on the website of the tutorial (https://mariusbock.github.io/dl-for-har/).\n",
        "\n",
        "During this tutorial we will cover the Deep Learning Activity Recognition Chain (**DL-ARC**) pipeline, which is a reworked version of the Activity Recognition Chain as proposed by Bulling et al. in 2014. As part of familiarising you with the DL-ARC, within the next hours we will cover the following topics:\n",
        "- Data Collection & Analysis\n",
        "- Data Preprocessing\n",
        "- Evaluation\n",
        "- Training\n",
        "- Validation & Testing\n",
        "\n",
        "We will work with a mix of presentation slides and Juypter Notebooks. Before jumping into the contents of the pipeline, we will briefly cover the basics of how to use Jupyter Notebooks and, if used, Google Colab."
      ]
    },
    {
      "cell_type": "markdown",
      "metadata": {
        "id": "IukHusk-k0mF"
      },
      "source": [
        "### 1.1.1. For Colab Users"
      ]
    },
    {
      "cell_type": "markdown",
      "metadata": {
        "id": "eusF06yve9EX"
      },
      "source": [
        "If you are accessing this tutorial via Google Colab, we advice you to change the language of your Google Colab to be in English, rather than another language. This will help us to better assist you with issues that might arise during the tutorial. There are two ways to change the language:\n",
        "1. On Google Colab, go to 'Help' -> 'View in English'. \n",
        "2. Change the default language of your browser to English.\n",
        "\n"
      ]
    },
    {
      "cell_type": "markdown",
      "metadata": {
        "id": "dZmAD1zxjhLj"
      },
      "source": [
        "In general, we strongly advice you to use Google Colab as it provides you with a working Python distribution as well as free GPU resources. To make Colab use GPUs you need to change the current notebooks runtime type via:\n",
        "\n",
        "- Runtime -> Change runtime type -> Dropdown -> GPU -> Save\n",
        "\n",
        "For the live tutorial, we require all participants to use Colab. If you decide to rerun the tutorial at later points and rather want to have it run locally, feel free to clone our GitHub repository (mariusbock/dl-for-har). "
      ]
    },
    {
      "cell_type": "markdown",
      "metadata": {
        "id": "ZVuxre8AZmcj"
      },
      "source": [
        "This notebook will teach you how to analyse a Human Activity Recognition dataset. It will show you sample methods which one can apply to get a feel for the data and use case at hand."
      ]
    },
    {
      "cell_type": "markdown",
      "metadata": {
        "id": "klh32X6nlVT6"
      },
      "source": [
        "### 1.1.2. Jupyter Notebooks Basics"
      ]
    },
    {
      "cell_type": "markdown",
      "metadata": {
        "id": "IsD2PYSwnnSz"
      },
      "source": [
        "Jupyter notebooks are made of two main components. Markdown text cells and code cells. The latter can be seen as small Python scripts, which can be individually run. The output of the code is printed right after the cell. This allows for more granualar and expressive code with explanations and intermediate outputs along the way. In the following you will find a sample code cell. You can run the cell by either clicking the 'run' symbol in the top left of the cell or by clicking on it and hitting Shift + Enter on your keyboard. You can also rerun cells as many times as you want, but be aware that some cells require other cells to be run beforehand in order to work properly (e.g. if one cell references variables defined in another cell)\n",
        "\n",
        "**Note**: If you get a warning saying \"Warning: This notebook was not authored by Google.\", just hit \"Run anyway\"."
      ]
    },
    {
      "cell_type": "code",
      "metadata": {
        "id": "yHl-8E6onlUs",
        "outputId": "6d553bb3-4a25-4f05-a556-65b97de3b0b1",
        "colab": {
          "base_uri": "https://localhost:8080/"
        }
      },
      "source": [
        "# This is a normal print statement\n",
        "print('Hello World!')"
      ],
      "execution_count": 1,
      "outputs": [
        {
          "output_type": "stream",
          "name": "stdout",
          "text": [
            "Hello World!\n"
          ]
        }
      ]
    },
    {
      "cell_type": "code",
      "metadata": {
        "id": "EaZAnKWirC_F",
        "outputId": "57d097a5-6d31-4dab-9606-57e9141751ca",
        "colab": {
          "base_uri": "https://localhost:8080/"
        }
      },
      "source": [
        "# Just like any script you can declare variables and import packages\n",
        "import numpy as np\n",
        "\n",
        "test_array = np.array([1, 2, 3, 4, 5])\n",
        "print(test_array)\n",
        "\n",
        "# You can also just write the variable again and it will be printed as output of the cell\n",
        "test_array"
      ],
      "execution_count": 2,
      "outputs": [
        {
          "output_type": "stream",
          "name": "stdout",
          "text": [
            "[1 2 3 4 5]\n"
          ]
        },
        {
          "output_type": "execute_result",
          "data": {
            "text/plain": [
              "array([1, 2, 3, 4, 5])"
            ]
          },
          "metadata": {},
          "execution_count": 2
        }
      ]
    },
    {
      "cell_type": "markdown",
      "metadata": {
        "id": "ZjJNglZMZmck"
      },
      "source": [
        "## 1.1. The Dataset"
      ]
    },
    {
      "cell_type": "markdown",
      "metadata": {
        "id": "mPRN7hlpZmck"
      },
      "source": [
        "Throughout the whole tutorial we will use the **RealWorld HAR dataset**. The dataset comprises of 15 subjects perfoming a set of 8 activites (climbing stairs up and down, jumping, lying, running/ jogging, sitting, standing, walking). The orginal dataset covers acceleration, GPS, gyroscope, light, magnetic field, and sound level data. Sensors were placed on multiple body positions, i.e. chest, forearm, head, shin, thigh, upper arm, and waist. Each subject performed each activity roughly 10 minutes except for jumping (~1.7 minutes)."
      ]
    },
    {
      "cell_type": "markdown",
      "metadata": {
        "id": "YZv20CloZmcl"
      },
      "source": [
        "For simplicity and runtime purposes we will only data obtained from the first three subjects and only use acceleration data captured from the wrist. Within the first task of this notebook, we will show you how to load the dataset using pandas and print the first five rows of the dataset.\n",
        "\n",
        "Before running any further code within this notebook, you need to run the code cell below. Please set use_colab to be True if you are accessing this notebook via Colab. If not, please set it to False. This code cell will make sure that imports from our GitHub repository will work."
      ]
    },
    {
      "cell_type": "code",
      "metadata": {
        "id": "M0VpXagtuAw2",
        "outputId": "b1839d37-1eb1-4fee-86b5-82ac64763b88",
        "colab": {
          "base_uri": "https://localhost:8080/"
        }
      },
      "source": [
        "import os\n",
        "import sys\n",
        "\n",
        "use_colab = True\n",
        "\n",
        "module_path = os.path.abspath(os.path.join('..'))\n",
        "\n",
        "if use_colab:\n",
        "    # clone package repository\n",
        "    !git clone https://github.com/mariusbock/dl-for-har.git\n",
        "\n",
        "    # navigate to dl-for-har directory\n",
        "    %cd dl-for-har/\n",
        "else:\n",
        "    os.chdir(module_path)\n",
        "    \n",
        "# this statement is needed so that we can use the methods of the DL-ARC pipeline\n",
        "if module_path not in sys.path:\n",
        "    sys.path.append(module_path)"
      ],
      "execution_count": 3,
      "outputs": [
        {
          "output_type": "stream",
          "name": "stdout",
          "text": [
            "Cloning into 'dl-for-har'...\n",
            "remote: Enumerating objects: 518, done.\u001b[K\n",
            "remote: Counting objects: 100% (518/518), done.\u001b[K\n",
            "remote: Compressing objects: 100% (424/424), done.\u001b[K\n",
            "remote: Total 518 (delta 168), reused 406 (delta 86), pack-reused 0\u001b[K\n",
            "Receiving objects: 100% (518/518), 22.05 MiB | 15.03 MiB/s, done.\n",
            "Resolving deltas: 100% (168/168), done.\n",
            "/content/dl-for-har\n"
          ]
        }
      ]
    },
    {
      "cell_type": "markdown",
      "metadata": {
        "id": "i4cne45BtrD-"
      },
      "source": [
        "### Task 1: Loading the dataset\n",
        "\n",
        "1. Load the dataset containing the data of the first three subjects within the RWHAR dataset. The dataset is called 'rwhar_3sbjs_data.csv' and is within the 'data' folder of the repository. To load the dataset use pandas read_csv() method. \n",
        "2. While reading in the data, use the names attribute to pass along the header of the CSV file. The columns we will be using are 'subject_id', 'acc_x', 'acc_y', 'acc_z' and 'activity_label'.\n",
        "3. Print the first five rows of the loaded dataset using the built-in head() method of the pandas dataframe."
      ]
    },
    {
      "cell_type": "code",
      "metadata": {
        "id": "eDumd6geZmcl",
        "outputId": "a65d22e0-407a-4cdd-9b10-8919cae17eb5",
        "colab": {
          "base_uri": "https://localhost:8080/",
          "height": 204
        }
      },
      "source": [
        "# this statement will import pandas for you\n",
        "import pandas as pd\n",
        "\n",
        "# declare where the dataset lies\n",
        "data_dir = 'data/rwhar_3sbjs_data.csv'\n",
        "\n",
        "# use pd.read_csv() to load the dataset; use the names attribute to pass along the column names\n",
        "data = pd.read_csv(data_dir, names=['subject_id', 'acc_x', 'acc_y', 'acc_z', 'activity_label'])\n",
        "\n",
        "# print the first 5 rows of the loaded data using .head()\n",
        "data.head()"
      ],
      "execution_count": 5,
      "outputs": [
        {
          "output_type": "execute_result",
          "data": {
            "text/html": [
              "<div>\n",
              "<style scoped>\n",
              "    .dataframe tbody tr th:only-of-type {\n",
              "        vertical-align: middle;\n",
              "    }\n",
              "\n",
              "    .dataframe tbody tr th {\n",
              "        vertical-align: top;\n",
              "    }\n",
              "\n",
              "    .dataframe thead th {\n",
              "        text-align: right;\n",
              "    }\n",
              "</style>\n",
              "<table border=\"1\" class=\"dataframe\">\n",
              "  <thead>\n",
              "    <tr style=\"text-align: right;\">\n",
              "      <th></th>\n",
              "      <th>subject_id</th>\n",
              "      <th>acc_x</th>\n",
              "      <th>acc_y</th>\n",
              "      <th>acc_z</th>\n",
              "      <th>activity_label</th>\n",
              "    </tr>\n",
              "  </thead>\n",
              "  <tbody>\n",
              "    <tr>\n",
              "      <th>0</th>\n",
              "      <td>0</td>\n",
              "      <td>0.378284</td>\n",
              "      <td>10.168175</td>\n",
              "      <td>0.847547</td>\n",
              "      <td>climbing_up</td>\n",
              "    </tr>\n",
              "    <tr>\n",
              "      <th>1</th>\n",
              "      <td>0</td>\n",
              "      <td>0.383671</td>\n",
              "      <td>10.172364</td>\n",
              "      <td>0.849942</td>\n",
              "      <td>climbing_up</td>\n",
              "    </tr>\n",
              "    <tr>\n",
              "      <th>2</th>\n",
              "      <td>0</td>\n",
              "      <td>0.372298</td>\n",
              "      <td>10.181941</td>\n",
              "      <td>0.859518</td>\n",
              "      <td>climbing_up</td>\n",
              "    </tr>\n",
              "    <tr>\n",
              "      <th>3</th>\n",
              "      <td>0</td>\n",
              "      <td>0.342969</td>\n",
              "      <td>10.170568</td>\n",
              "      <td>0.834379</td>\n",
              "      <td>climbing_up</td>\n",
              "    </tr>\n",
              "    <tr>\n",
              "      <th>4</th>\n",
              "      <td>0</td>\n",
              "      <td>0.319626</td>\n",
              "      <td>10.159795</td>\n",
              "      <td>0.818817</td>\n",
              "      <td>climbing_up</td>\n",
              "    </tr>\n",
              "  </tbody>\n",
              "</table>\n",
              "</div>"
            ],
            "text/plain": [
              "   subject_id     acc_x      acc_y     acc_z activity_label\n",
              "0           0  0.378284  10.168175  0.847547    climbing_up\n",
              "1           0  0.383671  10.172364  0.849942    climbing_up\n",
              "2           0  0.372298  10.181941  0.859518    climbing_up\n",
              "3           0  0.342969  10.170568  0.834379    climbing_up\n",
              "4           0  0.319626  10.159795  0.818817    climbing_up"
            ]
          },
          "metadata": {},
          "execution_count": 5
        }
      ]
    },
    {
      "cell_type": "markdown",
      "metadata": {
        "id": "28GsrAAOZmcm"
      },
      "source": [
        "As you can see, the dataset comprises of 5 columns.\n",
        "- **subject_id**: identifier which subject the data belongs to\n",
        "- **acc_x**: acceleration data obtained from the wrist (x-axis)\n",
        "- **acc_y**: acceleration data obtained from the wrist (y-axis)\n",
        "- **acc_z**: acceleration data obtained from the wrist (z-axis)\n",
        "- **activity_label**: name of the activtiy which was performed"
      ]
    },
    {
      "cell_type": "markdown",
      "metadata": {
        "id": "LU7Df2AvZmcm"
      },
      "source": [
        "## 1.2. Visualizing the Dataset"
      ]
    },
    {
      "cell_type": "markdown",
      "metadata": {
        "id": "GIjRfr4nZmcn"
      },
      "source": [
        "Now that you have loaded the dataset, we will take a closer look at the at it. In the following, we will go over sample steps you can take to get a better feeling for a dataset and how its data looks like.\n"
      ]
    },
    {
      "cell_type": "markdown",
      "metadata": {
        "id": "SWNOhcouzBWR"
      },
      "source": [
        "First, we will have a look at the labeling of the dataset. Each record represents a recorded value of the sensor worn by the participants on their wrist. The corresponding label is the activity they were performing at the given point in time. The next code cell will introduce to you built-in functions of pandas you can use to quickly see how the labels are distributed across all records."
      ]
    },
    {
      "cell_type": "markdown",
      "metadata": {
        "id": "YNqUkBoKZmcn"
      },
      "source": [
        "### Task 2: Analyse the labeling\n",
        "1. Analyse the label distribution of the dataset. What unique labels exist in the dataset? How many instances of each label are there?\n",
        "2. (Advanced) Visualize your results obtained in 1. using a bar plot diagram."
      ]
    },
    {
      "cell_type": "code",
      "metadata": {
        "id": "pcaPjm9HZmco",
        "outputId": "14c3b400-f45c-4c59-ea06-9f5201abcc95"
      },
      "source": [
        "# imports needed for this code cell\n",
        "import numpy as np\n",
        "import matplotlib.pyplot as plt\n",
        "\n",
        "# obtain the unique labels within the 'activity_label' column\n",
        "# Hint: select the column and call .unique()\n",
        "unique_labels = data['activity_label'].unique()\n",
        "# If you did everything corectly the 8 activities mentioned in the beginning of this notebook should be printed\n",
        "print('\\nUnique labels in the dataset:')\n",
        "for l in unique_labels: print(l)\n",
        "\n",
        "# obtain the label distribution of the 'actitiy_label' column\n",
        "# Hint: select the column and call .value_counts()\n",
        "label_distribution = data['activity_label'].value_counts()\n",
        "# this should print all the labels as well as how many times they occured in the dataset\n",
        "print('\\nLabel Distribution: ')\n",
        "print(label_distribution)\n",
        "\n",
        "# declare the x- and y-axis of the plot\n",
        "# x_axis = the different labels within the dataset\n",
        "# y_axis = their occurences across the dataset\n",
        "x_axis = label_distribution.index.tolist()\n",
        "y_axis = label_distribution.tolist()\n",
        "# this will declare the plot\n",
        "plt.figure(figsize=(12, 5))\n",
        "plt.bar(x_axis, y_axis, width=0.5)\n",
        "plt.xlabel('Activity label')\n",
        "plt.ylabel('Count')\n",
        "plt.title('Label Distribution')\n",
        "plt.show()"
      ],
      "execution_count": null,
      "outputs": [
        {
          "name": "stdout",
          "output_type": "stream",
          "text": [
            "\n",
            "Unique labels in the dataset:\n",
            "climbing_up\n",
            "standing\n",
            "walking\n",
            "sitting\n",
            "running\n",
            "climbing_down\n",
            "jumping\n",
            "lying\n",
            "\n",
            "Label Distribution: \n",
            "sitting          32833\n",
            "standing         31924\n",
            "walking          31793\n",
            "lying            31229\n",
            "running          30429\n",
            "climbing_up      26938\n",
            "climbing_down    25281\n",
            "jumping           4232\n",
            "Name: activity_label, dtype: int64\n"
          ]
        },
        {
          "data": {
            "image/png": "[encoded data removed]",
            "text/plain": [
              "<Figure size 864x360 with 1 Axes>"
            ]
          },
          "metadata": {
            "needs_background": "light"
          },
          "output_type": "display_data"
        }
      ]
    },
    {
      "cell_type": "markdown",
      "metadata": {
        "id": "mDAFsN2i2d5W"
      },
      "source": [
        "Now lets focus on actually visualizing the acceleration data. As you saw in the introduction to this tutorial, even though sensor data is more abstract than e.g. images, we can still visualize it along the time axis as a simple graph. Within the next coding task, you will define a sample function called 'plot_activity' which will be able to plot data belonging to sample activities as a simple graph and see how they already look different from each other."
      ]
    },
    {
      "cell_type": "markdown",
      "metadata": {
        "id": "9uCELWv0Zmco"
      },
      "source": [
        "### Task 3: Plot activity data\n",
        "\n",
        "\n",
        "1. Filter the original dataset to only contain records with the wanted label \n",
        "2. Define the y-axis of the plot as the sensor values, e.g. acceleration data on the x-, y- and z-axis\n",
        "3. Define the x-axis of the plot as the time in seconds (Hint: you need the sampling rate).\n",
        "4. Test the function for different activity labels and sensors."
      ]
    },
    {
      "cell_type": "code",
      "metadata": {
        "scrolled": false,
        "id": "IELmLgAWZmco",
        "outputId": "0b06e619-01ca-405f-baaf-3ccae9c3b799",
        "colab": {
          "base_uri": "https://localhost:8080/",
          "height": 295
        }
      },
      "source": [
        "%matplotlib inline\n",
        "import math\n",
        "import matplotlib.pyplot as plt\n",
        "\n",
        "# define the activity name, sensor names and sampling rate. \n",
        "# Hint: you can get all these information by scrolling up and reading through what you already did\n",
        "activity_label = 'climbing_up'\n",
        "sensor_names = ['acc_x', 'acc_y', 'acc_z']\n",
        "sampling_rate = 50\n",
        "\n",
        "def plot_activity(data, label, sensor_names, sampling_rate):\n",
        "    # filter the data to only contain data from the activtiy_label\n",
        "    filtered_data = data[data.activity_label==label]\n",
        "    \n",
        "    # define the y- and x-axis as defined above\n",
        "    # Hint for x-axis: count how many records there are and divide it by the sampling rate\n",
        "    y_axis = filtered_data[sensor_names]\n",
        "    x_axis = np.array(range(len(filtered_data))) / sampling_rate\n",
        "\n",
        "    # this will plot your data\n",
        "    plt.plot(x_axis, y_axis)\n",
        "\n",
        "    plt.xlabel('Time (sec)')\n",
        "    plt.ylabel('Sensor Value')\n",
        "    plt.title(label)\n",
        "    plt.legend(['acc_x', 'acc_y', 'acc_z'])\n",
        "    plt.show()\n",
        "\n",
        "# call the function you just defined using the correct inputs\n",
        "plot_activity(data, activity_label, sensor_names, sampling_rate)"
      ],
      "execution_count": 20,
      "outputs": [
        {
          "output_type": "display_data",
          "data": {
            "image/png": "[encoded data removed]",
            "text/plain": [
              "<Figure size 432x288 with 1 Axes>"
            ]
          },
          "metadata": {
            "needs_background": "light"
          }
        }
      ]
    },
    {
      "cell_type": "markdown",
      "metadata": {
        "id": "bPHJ3PCjLVP0"
      },
      "source": [
        "Now, this plot may look a bit messy to you. There are many interactive plots which you can use. In the following, we implemented one for you, so you can play around with the plot you just created and zoom in on certain parts. Just run the two code cells below."
      ]
    },
    {
      "cell_type": "code",
      "metadata": {
        "id": "2wNnjjMQLtye",
        "outputId": "8092462e-b3b7-4c98-be68-8c00423e009e",
        "colab": {
          "base_uri": "https://localhost:8080/",
          "height": 341
        }
      },
      "source": [
        "\n",
        "def plot_activity_advanced(data, label, sensor_names, sampling_rate):\n",
        "  # needs to be implemented\n",
        "\n",
        "plot_activity_advanced(data, activity_label, sensor_names, sampling_rate)"
      ],
      "execution_count": 28,
      "outputs": [
        {
          "output_type": "error",
          "ename": "ValueError",
          "evalue": "ignored",
          "traceback": [
            "\u001b[0;31m---------------------------------------------------------------------------\u001b[0m",
            "\u001b[0;31mValueError\u001b[0m                                Traceback (most recent call last)",
            "\u001b[0;32m<ipython-input-28-c88ab8dc0754>\u001b[0m in \u001b[0;36m<module>\u001b[0;34m()\u001b[0m\n\u001b[1;32m     20\u001b[0m \u001b[0;34m\u001b[0m\u001b[0m\n\u001b[1;32m     21\u001b[0m \u001b[0;34m\u001b[0m\u001b[0m\n\u001b[0;32m---> 22\u001b[0;31m \u001b[0mplot_activity_advanced\u001b[0m\u001b[0;34m(\u001b[0m\u001b[0mdata\u001b[0m\u001b[0;34m,\u001b[0m \u001b[0mactivity_label\u001b[0m\u001b[0;34m,\u001b[0m \u001b[0msensor_names\u001b[0m\u001b[0;34m,\u001b[0m \u001b[0msampling_rate\u001b[0m\u001b[0;34m)\u001b[0m\u001b[0;34m\u001b[0m\u001b[0;34m\u001b[0m\u001b[0m\n\u001b[0m",
            "\u001b[0;32m<ipython-input-28-c88ab8dc0754>\u001b[0m in \u001b[0;36mplot_activity_advanced\u001b[0;34m(data, label, sensor_names, sampling_rate)\u001b[0m\n\u001b[1;32m      7\u001b[0m     source = pd.DataFrame({\n\u001b[1;32m      8\u001b[0m     \u001b[0;34m'x'\u001b[0m\u001b[0;34m:\u001b[0m \u001b[0mx_axis\u001b[0m\u001b[0;34m,\u001b[0m\u001b[0;34m\u001b[0m\u001b[0;34m\u001b[0m\u001b[0m\n\u001b[0;32m----> 9\u001b[0;31m     \u001b[0;34m'f(x)'\u001b[0m\u001b[0;34m:\u001b[0m \u001b[0my_axis\u001b[0m\u001b[0;34m\u001b[0m\u001b[0;34m\u001b[0m\u001b[0m\n\u001b[0m\u001b[1;32m     10\u001b[0m     })\n\u001b[1;32m     11\u001b[0m     alt.Chart(source).mark_line().encode(\n",
            "\u001b[0;32m/usr/local/lib/python3.7/dist-packages/pandas/core/frame.py\u001b[0m in \u001b[0;36m__init__\u001b[0;34m(self, data, index, columns, dtype, copy)\u001b[0m\n\u001b[1;32m    466\u001b[0m \u001b[0;34m\u001b[0m\u001b[0m\n\u001b[1;32m    467\u001b[0m         \u001b[0;32melif\u001b[0m \u001b[0misinstance\u001b[0m\u001b[0;34m(\u001b[0m\u001b[0mdata\u001b[0m\u001b[0;34m,\u001b[0m \u001b[0mdict\u001b[0m\u001b[0;34m)\u001b[0m\u001b[0;34m:\u001b[0m\u001b[0;34m\u001b[0m\u001b[0;34m\u001b[0m\u001b[0m\n\u001b[0;32m--> 468\u001b[0;31m             \u001b[0mmgr\u001b[0m \u001b[0;34m=\u001b[0m \u001b[0minit_dict\u001b[0m\u001b[0;34m(\u001b[0m\u001b[0mdata\u001b[0m\u001b[0;34m,\u001b[0m \u001b[0mindex\u001b[0m\u001b[0;34m,\u001b[0m \u001b[0mcolumns\u001b[0m\u001b[0;34m,\u001b[0m \u001b[0mdtype\u001b[0m\u001b[0;34m=\u001b[0m\u001b[0mdtype\u001b[0m\u001b[0;34m)\u001b[0m\u001b[0;34m\u001b[0m\u001b[0;34m\u001b[0m\u001b[0m\n\u001b[0m\u001b[1;32m    469\u001b[0m         \u001b[0;32melif\u001b[0m \u001b[0misinstance\u001b[0m\u001b[0;34m(\u001b[0m\u001b[0mdata\u001b[0m\u001b[0;34m,\u001b[0m \u001b[0mma\u001b[0m\u001b[0;34m.\u001b[0m\u001b[0mMaskedArray\u001b[0m\u001b[0;34m)\u001b[0m\u001b[0;34m:\u001b[0m\u001b[0;34m\u001b[0m\u001b[0;34m\u001b[0m\u001b[0m\n\u001b[1;32m    470\u001b[0m             \u001b[0;32mimport\u001b[0m \u001b[0mnumpy\u001b[0m\u001b[0;34m.\u001b[0m\u001b[0mma\u001b[0m\u001b[0;34m.\u001b[0m\u001b[0mmrecords\u001b[0m \u001b[0;32mas\u001b[0m \u001b[0mmrecords\u001b[0m\u001b[0;34m\u001b[0m\u001b[0;34m\u001b[0m\u001b[0m\n",
            "\u001b[0;32m/usr/local/lib/python3.7/dist-packages/pandas/core/internals/construction.py\u001b[0m in \u001b[0;36minit_dict\u001b[0;34m(data, index, columns, dtype)\u001b[0m\n\u001b[1;32m    281\u001b[0m             \u001b[0marr\u001b[0m \u001b[0;32mif\u001b[0m \u001b[0;32mnot\u001b[0m \u001b[0mis_datetime64tz_dtype\u001b[0m\u001b[0;34m(\u001b[0m\u001b[0marr\u001b[0m\u001b[0;34m)\u001b[0m \u001b[0;32melse\u001b[0m \u001b[0marr\u001b[0m\u001b[0;34m.\u001b[0m\u001b[0mcopy\u001b[0m\u001b[0;34m(\u001b[0m\u001b[0;34m)\u001b[0m \u001b[0;32mfor\u001b[0m \u001b[0marr\u001b[0m \u001b[0;32min\u001b[0m \u001b[0marrays\u001b[0m\u001b[0;34m\u001b[0m\u001b[0;34m\u001b[0m\u001b[0m\n\u001b[1;32m    282\u001b[0m         ]\n\u001b[0;32m--> 283\u001b[0;31m     \u001b[0;32mreturn\u001b[0m \u001b[0marrays_to_mgr\u001b[0m\u001b[0;34m(\u001b[0m\u001b[0marrays\u001b[0m\u001b[0;34m,\u001b[0m \u001b[0mdata_names\u001b[0m\u001b[0;34m,\u001b[0m \u001b[0mindex\u001b[0m\u001b[0;34m,\u001b[0m \u001b[0mcolumns\u001b[0m\u001b[0;34m,\u001b[0m \u001b[0mdtype\u001b[0m\u001b[0;34m=\u001b[0m\u001b[0mdtype\u001b[0m\u001b[0;34m)\u001b[0m\u001b[0;34m\u001b[0m\u001b[0;34m\u001b[0m\u001b[0m\n\u001b[0m\u001b[1;32m    284\u001b[0m \u001b[0;34m\u001b[0m\u001b[0m\n\u001b[1;32m    285\u001b[0m \u001b[0;34m\u001b[0m\u001b[0m\n",
            "\u001b[0;32m/usr/local/lib/python3.7/dist-packages/pandas/core/internals/construction.py\u001b[0m in \u001b[0;36marrays_to_mgr\u001b[0;34m(arrays, arr_names, index, columns, dtype, verify_integrity)\u001b[0m\n\u001b[1;32m     91\u001b[0m     \u001b[0maxes\u001b[0m \u001b[0;34m=\u001b[0m \u001b[0;34m[\u001b[0m\u001b[0mcolumns\u001b[0m\u001b[0;34m,\u001b[0m \u001b[0mindex\u001b[0m\u001b[0;34m]\u001b[0m\u001b[0;34m\u001b[0m\u001b[0;34m\u001b[0m\u001b[0m\n\u001b[1;32m     92\u001b[0m \u001b[0;34m\u001b[0m\u001b[0m\n\u001b[0;32m---> 93\u001b[0;31m     \u001b[0;32mreturn\u001b[0m \u001b[0mcreate_block_manager_from_arrays\u001b[0m\u001b[0;34m(\u001b[0m\u001b[0marrays\u001b[0m\u001b[0;34m,\u001b[0m \u001b[0marr_names\u001b[0m\u001b[0;34m,\u001b[0m \u001b[0maxes\u001b[0m\u001b[0;34m)\u001b[0m\u001b[0;34m\u001b[0m\u001b[0;34m\u001b[0m\u001b[0m\n\u001b[0m\u001b[1;32m     94\u001b[0m \u001b[0;34m\u001b[0m\u001b[0m\n\u001b[1;32m     95\u001b[0m \u001b[0;34m\u001b[0m\u001b[0m\n",
            "\u001b[0;32m/usr/local/lib/python3.7/dist-packages/pandas/core/internals/managers.py\u001b[0m in \u001b[0;36mcreate_block_manager_from_arrays\u001b[0;34m(arrays, names, axes)\u001b[0m\n\u001b[1;32m   1695\u001b[0m         \u001b[0;32mreturn\u001b[0m \u001b[0mmgr\u001b[0m\u001b[0;34m\u001b[0m\u001b[0;34m\u001b[0m\u001b[0m\n\u001b[1;32m   1696\u001b[0m     \u001b[0;32mexcept\u001b[0m \u001b[0mValueError\u001b[0m \u001b[0;32mas\u001b[0m \u001b[0me\u001b[0m\u001b[0;34m:\u001b[0m\u001b[0;34m\u001b[0m\u001b[0;34m\u001b[0m\u001b[0m\n\u001b[0;32m-> 1697\u001b[0;31m         \u001b[0;32mraise\u001b[0m \u001b[0mconstruction_error\u001b[0m\u001b[0;34m(\u001b[0m\u001b[0mlen\u001b[0m\u001b[0;34m(\u001b[0m\u001b[0marrays\u001b[0m\u001b[0;34m)\u001b[0m\u001b[0;34m,\u001b[0m \u001b[0marrays\u001b[0m\u001b[0;34m[\u001b[0m\u001b[0;36m0\u001b[0m\u001b[0;34m]\u001b[0m\u001b[0;34m.\u001b[0m\u001b[0mshape\u001b[0m\u001b[0;34m,\u001b[0m \u001b[0maxes\u001b[0m\u001b[0;34m,\u001b[0m \u001b[0me\u001b[0m\u001b[0;34m)\u001b[0m\u001b[0;34m\u001b[0m\u001b[0;34m\u001b[0m\u001b[0m\n\u001b[0m\u001b[1;32m   1698\u001b[0m \u001b[0;34m\u001b[0m\u001b[0m\n\u001b[1;32m   1699\u001b[0m \u001b[0;34m\u001b[0m\u001b[0m\n",
            "\u001b[0;32m/usr/local/lib/python3.7/dist-packages/pandas/core/internals/managers.py\u001b[0m in \u001b[0;36mcreate_block_manager_from_arrays\u001b[0;34m(arrays, names, axes)\u001b[0m\n\u001b[1;32m   1691\u001b[0m     \u001b[0;32mtry\u001b[0m\u001b[0;34m:\u001b[0m\u001b[0;34m\u001b[0m\u001b[0;34m\u001b[0m\u001b[0m\n\u001b[1;32m   1692\u001b[0m         \u001b[0mblocks\u001b[0m \u001b[0;34m=\u001b[0m \u001b[0mform_blocks\u001b[0m\u001b[0;34m(\u001b[0m\u001b[0marrays\u001b[0m\u001b[0;34m,\u001b[0m \u001b[0mnames\u001b[0m\u001b[0;34m,\u001b[0m \u001b[0maxes\u001b[0m\u001b[0;34m)\u001b[0m\u001b[0;34m\u001b[0m\u001b[0;34m\u001b[0m\u001b[0m\n\u001b[0;32m-> 1693\u001b[0;31m         \u001b[0mmgr\u001b[0m \u001b[0;34m=\u001b[0m \u001b[0mBlockManager\u001b[0m\u001b[0;34m(\u001b[0m\u001b[0mblocks\u001b[0m\u001b[0;34m,\u001b[0m \u001b[0maxes\u001b[0m\u001b[0;34m)\u001b[0m\u001b[0;34m\u001b[0m\u001b[0;34m\u001b[0m\u001b[0m\n\u001b[0m\u001b[1;32m   1694\u001b[0m         \u001b[0mmgr\u001b[0m\u001b[0;34m.\u001b[0m\u001b[0m_consolidate_inplace\u001b[0m\u001b[0;34m(\u001b[0m\u001b[0;34m)\u001b[0m\u001b[0;34m\u001b[0m\u001b[0;34m\u001b[0m\u001b[0m\n\u001b[1;32m   1695\u001b[0m         \u001b[0;32mreturn\u001b[0m \u001b[0mmgr\u001b[0m\u001b[0;34m\u001b[0m\u001b[0;34m\u001b[0m\u001b[0m\n",
            "\u001b[0;32m/usr/local/lib/python3.7/dist-packages/pandas/core/internals/managers.py\u001b[0m in \u001b[0;36m__init__\u001b[0;34m(self, blocks, axes, do_integrity_check)\u001b[0m\n\u001b[1;32m    147\u001b[0m \u001b[0;34m\u001b[0m\u001b[0m\n\u001b[1;32m    148\u001b[0m         \u001b[0;32mif\u001b[0m \u001b[0mdo_integrity_check\u001b[0m\u001b[0;34m:\u001b[0m\u001b[0;34m\u001b[0m\u001b[0;34m\u001b[0m\u001b[0m\n\u001b[0;32m--> 149\u001b[0;31m             \u001b[0mself\u001b[0m\u001b[0;34m.\u001b[0m\u001b[0m_verify_integrity\u001b[0m\u001b[0;34m(\u001b[0m\u001b[0;34m)\u001b[0m\u001b[0;34m\u001b[0m\u001b[0;34m\u001b[0m\u001b[0m\n\u001b[0m\u001b[1;32m    150\u001b[0m \u001b[0;34m\u001b[0m\u001b[0m\n\u001b[1;32m    151\u001b[0m         \u001b[0;31m# Populate known_consolidate, blknos, and blklocs lazily\u001b[0m\u001b[0;34m\u001b[0m\u001b[0;34m\u001b[0m\u001b[0;34m\u001b[0m\u001b[0m\n",
            "\u001b[0;32m/usr/local/lib/python3.7/dist-packages/pandas/core/internals/managers.py\u001b[0m in \u001b[0;36m_verify_integrity\u001b[0;34m(self)\u001b[0m\n\u001b[1;32m    327\u001b[0m         \u001b[0;32mfor\u001b[0m \u001b[0mblock\u001b[0m \u001b[0;32min\u001b[0m \u001b[0mself\u001b[0m\u001b[0;34m.\u001b[0m\u001b[0mblocks\u001b[0m\u001b[0;34m:\u001b[0m\u001b[0;34m\u001b[0m\u001b[0;34m\u001b[0m\u001b[0m\n\u001b[1;32m    328\u001b[0m             \u001b[0;32mif\u001b[0m \u001b[0mblock\u001b[0m\u001b[0;34m.\u001b[0m\u001b[0mshape\u001b[0m\u001b[0;34m[\u001b[0m\u001b[0;36m1\u001b[0m\u001b[0;34m:\u001b[0m\u001b[0;34m]\u001b[0m \u001b[0;34m!=\u001b[0m \u001b[0mmgr_shape\u001b[0m\u001b[0;34m[\u001b[0m\u001b[0;36m1\u001b[0m\u001b[0;34m:\u001b[0m\u001b[0;34m]\u001b[0m\u001b[0;34m:\u001b[0m\u001b[0;34m\u001b[0m\u001b[0;34m\u001b[0m\u001b[0m\n\u001b[0;32m--> 329\u001b[0;31m                 \u001b[0;32mraise\u001b[0m \u001b[0mconstruction_error\u001b[0m\u001b[0;34m(\u001b[0m\u001b[0mtot_items\u001b[0m\u001b[0;34m,\u001b[0m \u001b[0mblock\u001b[0m\u001b[0;34m.\u001b[0m\u001b[0mshape\u001b[0m\u001b[0;34m[\u001b[0m\u001b[0;36m1\u001b[0m\u001b[0;34m:\u001b[0m\u001b[0;34m]\u001b[0m\u001b[0;34m,\u001b[0m \u001b[0mself\u001b[0m\u001b[0;34m.\u001b[0m\u001b[0maxes\u001b[0m\u001b[0;34m)\u001b[0m\u001b[0;34m\u001b[0m\u001b[0;34m\u001b[0m\u001b[0m\n\u001b[0m\u001b[1;32m    330\u001b[0m         \u001b[0;32mif\u001b[0m \u001b[0mlen\u001b[0m\u001b[0;34m(\u001b[0m\u001b[0mself\u001b[0m\u001b[0;34m.\u001b[0m\u001b[0mitems\u001b[0m\u001b[0;34m)\u001b[0m \u001b[0;34m!=\u001b[0m \u001b[0mtot_items\u001b[0m\u001b[0;34m:\u001b[0m\u001b[0;34m\u001b[0m\u001b[0;34m\u001b[0m\u001b[0m\n\u001b[1;32m    331\u001b[0m             raise AssertionError(\n",
            "\u001b[0;31mValueError\u001b[0m: Shape of passed values is (3, 2), indices imply (87572, 2)"
          ]
        }
      ]
    },
    {
      "cell_type": "markdown",
      "metadata": {
        "id": "gKaB6Kw6Zmcp"
      },
      "source": [
        "## 1.3. More detailled analysis\n",
        "\n",
        "Lastly we want to introduce to you a more complex analysis of the dataset. As you will learn within the next notebook, we need to segment our data using a sliding window approach. The size of the windows is often times a crucial parameter which you need to decide upon before training your network. Sometimes smaller windows are required due to activities changing fast. Smaller windows will also give you essentially more data, as you are chunking the data into smaller pieces. On the other hand, small windows can lead to your network not recognizing characteristical traits within the data and thus hurt the expressiveness of your data.\n",
        "\n",
        "We therefore implemented a function within our GitHub, which allows you to get a summary of the activities in your dataset. For each subject as well as overall the function gives you:\n",
        "1. A list of all the activities that happended and how long they lasted\n",
        "2. The average, maximum and minimum time each activity lasted\n",
        "\n",
        "This can help you better understand your use case at hand and decide on how large or small your sliding windows should be."
      ]
    },
    {
      "cell_type": "markdown",
      "metadata": {
        "id": "8ZISDs3tSuOX"
      },
      "source": [
        "### Task 4: Analyze the activities\n",
        "\n",
        "1. Run the code cell below.\n",
        "2. Analyze the results. What do you notice? Do the activities change frequently?\n",
        "3. Do the results differ a lot across subjects?"
      ]
    },
    {
      "cell_type": "code",
      "metadata": {
        "id": "YK_pxWanZmcq",
        "outputId": "55ee00c1-f4b9-44a0-db78-974119a43f9d",
        "colab": {
          "base_uri": "https://localhost:8080/"
        }
      },
      "source": [
        "from data_processing.data_analysis import analyze_window_lengths\n",
        "\n",
        "analyze_window_lengths(labels=data['activity_label'], subject_idx=data['subject_id'], sampling_rate=50)"
      ],
      "execution_count": 29,
      "outputs": [
        {
          "output_type": "stream",
          "name": "stdout",
          "text": [
            "\n",
            "#### ACTIVITY TIMES ####\n",
            "\n",
            "#### SUBJECT 0 #####\n",
            "Label climbing_up:  Duration: 657.42 Datapoints: 0 - 32871\n",
            "Label standing:  Duration: 642.38 Datapoints: 32872 - 64991\n",
            "Label walking:  Duration: 638.98 Datapoints: 64992 - 96941\n",
            "Label sitting:  Duration: 657.54 Datapoints: 96942 - 129819\n",
            "Label running:  Duration: 612.24 Datapoints: 129820 - 160432\n",
            "Label climbing_down:  Duration: 508.7 Datapoints: 160433 - 185868\n",
            "Label jumping:  Duration: 86.76 Datapoints: 185869 - 190207\n",
            "Label lying:  Duration: 628.4 Datapoints: 190208 - 221628\n",
            "\n",
            "#### SUBJECT 1 #####\n",
            "Label climbing_up:  Duration: 503.0 Datapoints: 0 - 25150\n",
            "Label standing:  Duration: 615.36 Datapoints: 25151 - 55919\n",
            "Label walking:  Duration: 614.88 Datapoints: 55920 - 86664\n",
            "Label running:  Duration: 613.1 Datapoints: 86665 - 117320\n",
            "Label climbing_down:  Duration: 496.52 Datapoints: 117321 - 142147\n",
            "Label sitting:  Duration: 617.38 Datapoints: 142148 - 173017\n",
            "Label jumping:  Duration: 95.48 Datapoints: 173018 - 177792\n",
            "Label lying:  Duration: 620.98 Datapoints: 177793 - 208842\n",
            "\n",
            "#### SUBJECT 2 #####\n",
            "Label climbing_up:  Duration: 591.02 Datapoints: 0 - 29551\n",
            "Label standing:  Duration: 624.38 Datapoints: 29552 - 60771\n",
            "Label walking:  Duration: 682.34 Datapoints: 60772 - 94889\n",
            "Label running:  Duration: 758.74 Datapoints: 94890 - 132827\n",
            "Label climbing_down:  Duration: 554.86 Datapoints: 132828 - 160571\n",
            "Label lying:  Duration: 631.38 Datapoints: 160572 - 192141\n",
            "Label jumping:  Duration: 102.98 Datapoints: 192142 - 197291\n",
            "\n",
            "#### PER SUBJECT-LABEL AVERAGES #####\n",
            "\n",
            "#### SUBJECT 0 #####\n",
            "Label climbing_down:  avg. window length 508.7 seconds,  min. window length 508.7 seconds,  max. window length 508.7 seconds\n",
            "Label climbing_up:  avg. window length 657.4 seconds,  min. window length 657.4 seconds,  max. window length 657.4 seconds\n",
            "Label jumping:  avg. window length 86.8 seconds,  min. window length 86.8 seconds,  max. window length 86.8 seconds\n",
            "Label lying:  avg. window length 628.4 seconds,  min. window length 628.4 seconds,  max. window length 628.4 seconds\n",
            "Label running:  avg. window length 612.2 seconds,  min. window length 612.2 seconds,  max. window length 612.2 seconds\n",
            "Label sitting:  avg. window length 657.5 seconds,  min. window length 657.5 seconds,  max. window length 657.5 seconds\n",
            "Label standing:  avg. window length 642.4 seconds,  min. window length 642.4 seconds,  max. window length 642.4 seconds\n",
            "Label walking:  avg. window length 639.0 seconds,  min. window length 639.0 seconds,  max. window length 639.0 seconds\n",
            "\n",
            "#### SUBJECT 1 #####\n",
            "Label climbing_down:  avg. window length 496.5 seconds,  min. window length 496.5 seconds,  max. window length 496.5 seconds\n",
            "Label climbing_up:  avg. window length 503.0 seconds,  min. window length 503.0 seconds,  max. window length 503.0 seconds\n",
            "Label jumping:  avg. window length 95.5 seconds,  min. window length 95.5 seconds,  max. window length 95.5 seconds\n",
            "Label lying:  avg. window length 621.0 seconds,  min. window length 621.0 seconds,  max. window length 621.0 seconds\n",
            "Label running:  avg. window length 613.1 seconds,  min. window length 613.1 seconds,  max. window length 613.1 seconds\n",
            "Label sitting:  avg. window length 617.4 seconds,  min. window length 617.4 seconds,  max. window length 617.4 seconds\n",
            "Label standing:  avg. window length 615.4 seconds,  min. window length 615.4 seconds,  max. window length 615.4 seconds\n",
            "Label walking:  avg. window length 614.9 seconds,  min. window length 614.9 seconds,  max. window length 614.9 seconds\n",
            "\n",
            "#### SUBJECT 2 #####\n",
            "Label climbing_down:  avg. window length 554.9 seconds,  min. window length 554.9 seconds,  max. window length 554.9 seconds\n",
            "Label climbing_up:  avg. window length 591.0 seconds,  min. window length 591.0 seconds,  max. window length 591.0 seconds\n",
            "Label jumping:  avg. window length 103.0 seconds,  min. window length 103.0 seconds,  max. window length 103.0 seconds\n",
            "Label lying:  avg. window length 631.4 seconds,  min. window length 631.4 seconds,  max. window length 631.4 seconds\n",
            "Label running:  avg. window length 758.7 seconds,  min. window length 758.7 seconds,  max. window length 758.7 seconds\n",
            "NO LABELS FOUND FOR: sitting\n",
            "Label standing:  avg. window length 624.4 seconds,  min. window length 624.4 seconds,  max. window length 624.4 seconds\n",
            "Label walking:  avg. window length 682.3 seconds,  min. window length 682.3 seconds,  max. window length 682.3 seconds\n",
            "\n",
            "#### PER LABEL AVERAGES #####\n",
            "Label climbing_down:  avg. window length 520.0 seconds,  min. window length 496.5 seconds,  max. window length 554.9 seconds\n",
            "Label climbing_up:  avg. window length 583.8 seconds,  min. window length 503.0 seconds,  max. window length 657.4 seconds\n",
            "Label jumping:  avg. window length 95.1 seconds,  min. window length 86.8 seconds,  max. window length 103.0 seconds\n",
            "Label lying:  avg. window length 626.9 seconds,  min. window length 621.0 seconds,  max. window length 631.4 seconds\n",
            "Label running:  avg. window length 661.4 seconds,  min. window length 612.2 seconds,  max. window length 758.7 seconds\n",
            "Label sitting:  avg. window length 637.5 seconds,  min. window length 617.4 seconds,  max. window length 657.5 seconds\n",
            "Label standing:  avg. window length 627.4 seconds,  min. window length 615.4 seconds,  max. window length 642.4 seconds\n",
            "Label walking:  avg. window length 645.4 seconds,  min. window length 614.9 seconds,  max. window length 682.3 seconds\n"
          ]
        }
      ]
    }
  ]
}
